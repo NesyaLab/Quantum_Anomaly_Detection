{
 "cells": [
  {
   "cell_type": "markdown",
   "id": "af2b7b62-59d6-4074-8ada-dc300f9a8d03",
   "metadata": {
    "jp-MarkdownHeadingCollapsed": true
   },
   "source": [
    "# Class Anomaly Detection QAOA (AD_QAOA)"
   ]
  },
  {
   "cell_type": "markdown",
   "id": "bcaaa668-def9-4f84-9b5d-3b8c2ceef7d9",
   "metadata": {},
   "source": [
    "This class can solve the Anomaly Detection problem for time series analysis formulated as a QUBO problem and visualize the results."
   ]
  },
  {
   "cell_type": "markdown",
   "id": "377bbea2-a8be-4c6d-b56a-52197ce2da2d",
   "metadata": {},
   "source": [
    "**class AD_QAOA** `(self,\n",
    "             X,\n",
    "             alpha = -0.5,\n",
    "             beta = 0.5,\n",
    "             radius = 1,\n",
    "             top_n_samples = 5,\n",
    "             num_iterations = 10,\n",
    "             model_name = 'quadratic',\n",
    "             model_params = {},\n",
    "             radius_adjustment = False,\n",
    "             num_layers = 1,\n",
    "             debug=False)`"
   ]
  },
  {
   "cell_type": "markdown",
   "id": "a94f09e9-d56e-4eee-9b8b-7b01433ed8d3",
   "metadata": {
    "jp-MarkdownHeadingCollapsed": true
   },
   "source": [
    "#### Parameters\n",
    "\n",
    "* `X` (List[Tuple[int, float]]): Time series data.\n",
    "* `alpha` (float): Weight for the linear terms in the QUBO problem.\n",
    "* `beta` (float): Weight for the quadratic terms in the QUBO problem.\n",
    "* `radius` (float): Radius for the covering boxes.\n",
    "* `top_n_samples` (int): Number of top samples to consider.\n",
    "* `num_iterations` (int): Number of iterations for the COBYLA optimizer.\n",
    "* `model_name` (str): Model selected for the detection pipeline.\n",
    "* `model_params` (str): Model's parameters (if any).\n",
    "* `radius_adjustment` (bool):  Enables the radius adjustment mechanism for the set covering.\n",
    "* `num_layers` (int): Number of layers (p) to use in QAOA.\n",
    "* `debug` (bool): Enables some debug prints throught the code."
   ]
  },
  {
   "cell_type": "markdown",
   "id": "a222f067-5445-49e2-899b-a6409e3e5d8f",
   "metadata": {
    "jp-MarkdownHeadingCollapsed": true
   },
   "source": [
    "## Requirements"
   ]
  },
  {
   "cell_type": "markdown",
   "id": "b380ed62-a868-4ac6-a08c-578511a178e8",
   "metadata": {},
   "source": [
    "`pip install qiskit`\n",
    "\n",
    "`pip install qiskit. aer`\n",
    "\n",
    "`pip.install qiskit-optimization`\n",
    "\n",
    "`pip install qiskit-optimization[cplex]`"
   ]
  },
  {
   "cell_type": "markdown",
   "id": "afba7164-c58d-4779-921d-bd0502d847b2",
   "metadata": {
    "jp-MarkdownHeadingCollapsed": true
   },
   "source": [
    "## Imports"
   ]
  },
  {
   "cell_type": "code",
   "execution_count": 8,
   "id": "7b1189e6-4a89-4d82-9929-1bb96bfb5d93",
   "metadata": {},
   "outputs": [],
   "source": [
    "from qiskit_aer import Aer\n",
    "from qiskit import QuantumCircuit\n",
    "from qiskit.primitives import Sampler\n",
    "from qiskit_algorithms import QAOA\n",
    "from qiskit_algorithms.optimizers import COBYLA, L_BFGS_B, NELDER_MEAD, ADAM\n",
    "from qiskit_optimization.problems import QuadraticProgram\n",
    "from qiskit_optimization.algorithms import CplexOptimizer, GurobiOptimizer, MinimumEigenOptimizer\n",
    "import numpy as np\n",
    "import math\n",
    "from typing import Tuple, List, Dict\n",
    "from matplotlib import pyplot as plt\n",
    "from statistics import mean\n",
    "import random\n",
    "from sklearn.linear_model import RANSACRegressor\n",
    "from sklearn.pipeline import make_pipeline\n",
    "import math\n",
    "from scipy.optimize import curve_fit\n",
    "import itertools"
   ]
  },
  {
   "cell_type": "markdown",
   "id": "83a9ab19-d68b-4a81-8177-4bb9b9f2ebf1",
   "metadata": {
    "jp-MarkdownHeadingCollapsed": true
   },
   "source": [
    "## Attributes"
   ]
  },
  {
   "cell_type": "markdown",
   "id": "76c8414b-6cab-48c8-90a2-61718972b3a2",
   "metadata": {
    "jp-MarkdownHeadingCollapsed": true
   },
   "source": [
    "### initialization"
   ]
  },
  {
   "cell_type": "markdown",
   "id": "623e4bfc-5b2f-42c9-b591-7e60f37c12ac",
   "metadata": {},
   "source": [
    "Initializes the AD_QAOA class.  \n",
    "Disclaimer: mixer selection work in progress."
   ]
  },
  {
   "cell_type": "markdown",
   "id": "4cac8f8b-10ac-408b-84f4-5cc8e0070ac1",
   "metadata": {},
   "source": [
    "`__init__(self,\n",
    "             X,\n",
    "             alpha,\n",
    "             beta,\n",
    "             radius,\n",
    "             top_n_samples,\n",
    "             num_iterations,\n",
    "             model_name,\n",
    "             model_params,\n",
    "             radius_adjustment,\n",
    "             num_layers,\n",
    "             debug)`"
   ]
  },
  {
   "cell_type": "markdown",
   "id": "cee15636-f0ad-485f-9e68-9fa34e35c33b",
   "metadata": {},
   "source": [
    "#### Args\n",
    "\n",
    "* `self` : instanciating the attribute.\n",
    "* `X` (List[Tuple[int, float]]): Time series data.\n",
    "* `alpha` (float): Weight for the linear terms in the QUBO problem.\n",
    "* `beta` (float): Weight for the quadratic terms in the QUBO problem.\n",
    "* `radius` (float): Radius for the covering boxes.\n",
    "* `top_n_samples` (int): Number of top samples to consider.\n",
    "* `num_iterations` (int): Number of iterations for the COBYLA optimizer.\n",
    "* `model_name` (str): Model selected for the detection pipeline.\n",
    "* `model_params` (str): Model's parameters (if any).\n",
    "* `radius_adjustment` (bool):  Enables the radius adjustment mechanism for the set covering.\n",
    "* `num_layers` (int): Number of layers (p) to use in QAOA.\n",
    "* `debug` (bool): Enables some debug prints throught the code."
   ]
  },
  {
   "cell_type": "markdown",
   "id": "5054f0ad-0aaf-4d4e-9127-62f367730263",
   "metadata": {
    "jp-MarkdownHeadingCollapsed": true
   },
   "source": [
    "### matrix M"
   ]
  },
  {
   "cell_type": "markdown",
   "id": "89a127f1-1f5c-49c9-8ddf-caabd92fbd89",
   "metadata": {},
   "source": [
    "Builds the matrix M for the QUBO Anomaly Detection objective function. "
   ]
  },
  {
   "cell_type": "markdown",
   "id": "49dc4a56-3548-416f-8ba1-9deee432ddd0",
   "metadata": {},
   "source": [
    "`matrix_M(self)`"
   ]
  },
  {
   "cell_type": "markdown",
   "id": "3c972fcd-ef6e-4142-9fb8-22fc7d5cad49",
   "metadata": {},
   "source": [
    "#### Args\n",
    "\n",
    "* `self`"
   ]
  },
  {
   "cell_type": "markdown",
   "id": "7c810404-829e-436b-a176-de2f6e22cb22",
   "metadata": {},
   "source": [
    "#### Returns\n",
    "\n",
    "* `M` (np.ndarray): the matrix M of the Anomaly Detection QUBO problem, combination of both linear and quadratic terms. "
   ]
  },
  {
   "cell_type": "markdown",
   "id": "6b6f27ba-286a-426c-a854-86b2d6eb2fbf",
   "metadata": {
    "jp-MarkdownHeadingCollapsed": true
   },
   "source": [
    "### off diag M"
   ]
  },
  {
   "cell_type": "markdown",
   "id": "32e0fc2a-9c1b-4b24-b205-a5861bd46d93",
   "metadata": {},
   "source": [
    "Builds the off-diagonal terms (Q, quadratic contribution for the QUBO problem) for the corresponding M matrix."
   ]
  },
  {
   "cell_type": "markdown",
   "id": "b588a463-30b0-489b-b1ce-e87a8ca93fed",
   "metadata": {},
   "source": [
    "`off_diag_M (self, data)`"
   ]
  },
  {
   "cell_type": "markdown",
   "id": "ea632008-aec5-4f74-a0db-1931c197bf95",
   "metadata": {},
   "source": [
    "####  Args\n",
    "\n",
    "* `self`\n",
    "* `data` (List[Tuple[int, float]]): Time Series data.\n"
   ]
  },
  {
   "cell_type": "markdown",
   "id": "5b155a5e-946c-4e56-b10d-244e2833cd72",
   "metadata": {},
   "source": [
    "#### Returns\n",
    "\n",
    "* `Q` (np.ndarray): The symmetric matrix Q of the quadratic terms for the QUBO problem.\n"
   ]
  },
  {
   "cell_type": "code",
   "execution_count": null,
   "id": "7b5a5e6f-948f-4d61-a4d6-ce05e3a14cbe",
   "metadata": {},
   "outputs": [],
   "source": []
  },
  {
   "cell_type": "markdown",
   "id": "11d4a6dd-016b-4495-9717-6665631596ab",
   "metadata": {
    "jp-MarkdownHeadingCollapsed": true
   },
   "source": [
    "### compute delta"
   ]
  },
  {
   "cell_type": "markdown",
   "id": "8d93963c-db7b-4f50-90fa-bec5324cd53f",
   "metadata": {},
   "source": [
    "Creates the diagonal terms (delta, linear contribution for the QUBO problem) for the corresponding M matrix, computing the difference between the data sample and the corresponding model fitting values."
   ]
  },
  {
   "cell_type": "markdown",
   "id": "fab2cc5e-db33-41e9-ac37-790a257932c6",
   "metadata": {},
   "source": [
    "`compute_delta (self, data, model_values)`"
   ]
  },
  {
   "cell_type": "markdown",
   "id": "1f29d55d-5abe-47e1-8e07-7989a0afb996",
   "metadata": {},
   "source": [
    "#### Args\n",
    "\n",
    "* `self`\n",
    "* `data` (np.ndarray): Time Series data.\n",
    "* `model_values` (np.ndarray): Corresponding model values for the fitting."
   ]
  },
  {
   "cell_type": "markdown",
   "id": "c1b693e0-db10-4de7-8d87-0f469d090ab7",
   "metadata": {},
   "source": [
    "#### Returns\n",
    "\n",
    "* `List[float]`: List of absolute differences data sample/model sample."
   ]
  },
  {
   "cell_type": "code",
   "execution_count": null,
   "id": "7327b019-f4a2-4a3d-8d66-0d963516abb0",
   "metadata": {},
   "outputs": [],
   "source": []
  },
  {
   "cell_type": "markdown",
   "id": "4e8a6f0f-07a6-434f-a964-8ff2a082c0c3",
   "metadata": {
    "jp-MarkdownHeadingCollapsed": true
   },
   "source": [
    "### inverse transform"
   ]
  },
  {
   "cell_type": "markdown",
   "id": "38d41aa7-ebf8-4d5f-8971-dc799b5ed420",
   "metadata": {},
   "source": [
    "Applies an inverse transformation to delta values. Larger values ​​of delta become smaller, and vice versa. This allows the minimization problem for the QUBO formulation to correctly identify anomalies based on the highest values in the model fitting vector (high differences bewteen the model and the data sample). Also works as a normalization for the values."
   ]
  },
  {
   "cell_type": "markdown",
   "id": "67c2aafa-ce71-4aa0-b69a-244caf01238e",
   "metadata": {},
   "source": [
    "`inverse_transform(self, delta_values, scale_factor = 0.5)`"
   ]
  },
  {
   "cell_type": "markdown",
   "id": "d8fd4fe0-4c5b-43ad-a1b0-b278fc561835",
   "metadata": {},
   "source": [
    "#### Args\n",
    "\n",
    "* `self`\n",
    "* `delta_values` (List[float]): List of absolute differences data sample/model sample.\n",
    "* `scale_factor` (float): Scaling factor for the normalization and the transformation of the values."
   ]
  },
  {
   "cell_type": "markdown",
   "id": "1398a0d8-ab5d-44c5-8796-9cbe74b982e4",
   "metadata": {},
   "source": [
    "#### Returns\n",
    "\n",
    "* `transfrmed_values` (List[float]): List of transformed values to be used in the building of the diagonal of M for the QUBO problem."
   ]
  },
  {
   "cell_type": "code",
   "execution_count": null,
   "id": "3423da12-5dd5-4a33-9b7a-c7c5509a397e",
   "metadata": {},
   "outputs": [],
   "source": []
  },
  {
   "cell_type": "markdown",
   "id": "e85aa540-5805-4188-8298-8b8ee61c7596",
   "metadata": {
    "jp-MarkdownHeadingCollapsed": true
   },
   "source": [
    "### diag M"
   ]
  },
  {
   "cell_type": "markdown",
   "id": "aa6f7683-d47a-4563-b784-5499d11ca432",
   "metadata": {},
   "source": [
    "Computes the diagonal of the matrix M, using the normalization and the inversion of the data values, having selected a proper fitting model.  \n",
    "Adjustable scale factor: for a standard range of values use default; for very small dataset values use smaller factors."
   ]
  },
  {
   "cell_type": "markdown",
   "id": "7da14c75-b61a-4d6f-9b5d-7a3c184ee964",
   "metadata": {},
   "source": [
    "`diag_M(self, data, scale_factor = 0.5)`"
   ]
  },
  {
   "cell_type": "markdown",
   "id": "da55672b-689d-4eac-a005-9e847671377b",
   "metadata": {},
   "source": [
    "#### Args\n",
    "\n",
    "* `self`\n",
    "* `data` (np.ndarray): Time Series data.\n",
    "* `scale_factor` (float): Scaling factor for the normalization and the transformation of the values."
   ]
  },
  {
   "cell_type": "markdown",
   "id": "dbeb1819-75bb-4fdd-a9a0-a5dd3b8676fd",
   "metadata": {},
   "source": [
    "#### Returns\n",
    "\n",
    "* `transformed_delta` (List(float)): The diagonal component of the effective matrix M for the QUBO problem."
   ]
  },
  {
   "cell_type": "markdown",
   "id": "b816340b-d88f-47f9-b899-5a0e1c3f0878",
   "metadata": {},
   "source": [
    "#### Raises\n",
    "\n",
    "* `ValueError`: If a not supported model type is selected."
   ]
  },
  {
   "cell_type": "code",
   "execution_count": null,
   "id": "16bbefdb-7484-40b6-b50a-093eae63e288",
   "metadata": {},
   "outputs": [],
   "source": []
  },
  {
   "cell_type": "markdown",
   "id": "ab0ff30f-099e-4655-affa-4067dfa05a8e",
   "metadata": {
    "jp-MarkdownHeadingCollapsed": true
   },
   "source": [
    "### distance"
   ]
  },
  {
   "cell_type": "markdown",
   "id": "a88004f9-9fcb-470b-b287-2206fdb0b300",
   "metadata": {},
   "source": [
    "Calculates the selected distance between two points (default is absolute distance)."
   ]
  },
  {
   "cell_type": "markdown",
   "id": "117b3eb5-45c3-47c8-9f8e-b1397b66902a",
   "metadata": {},
   "source": [
    "`distance(self, point1, point2, kind = \"absolute_difference\")`"
   ]
  },
  {
   "cell_type": "markdown",
   "id": "dd582e36-2a63-4f77-92dd-6d41f6feeea8",
   "metadata": {},
   "source": [
    "#### Args\n",
    "\n",
    "* `self`\n",
    "* `point1` (np.ndarray): First point.\n",
    "* `point2` (np.ndarray): Second point.\n",
    "* `kind` (str): the kind of distance to be used. Default is \"absolute\"."
   ]
  },
  {
   "cell_type": "markdown",
   "id": "195bf49e-2f3e-4100-a384-2a712a5ff4d6",
   "metadata": {},
   "source": [
    "#### Returns\n",
    "\n",
    "* `float`: the distance between point1 and point2."
   ]
  },
  {
   "cell_type": "markdown",
   "id": "d5f6380f-bb49-41ed-bb29-86930f3dd5b3",
   "metadata": {},
   "source": [
    "#### Raises\n",
    "\n",
    "* `NotImplementedError`: If a not supported distance type is selected.\n",
    "* `ValueError`: if at least one of the points is not in the bidimensional array form (time_series' data point)."
   ]
  },
  {
   "cell_type": "code",
   "execution_count": null,
   "id": "eca5dcef-3513-431d-84c9-e1fccb56368d",
   "metadata": {},
   "outputs": [],
   "source": []
  },
  {
   "cell_type": "markdown",
   "id": "9364cf24-c908-4d5d-aa48-4831b55c0199",
   "metadata": {
    "jp-MarkdownHeadingCollapsed": true
   },
   "source": [
    "### moving average expanded"
   ]
  },
  {
   "cell_type": "markdown",
   "id": "e03e84a0-852c-4c5f-8539-da209017dd48",
   "metadata": {},
   "source": [
    "Calculates the moving average model (expanded to match the lenght of the list of samples) for the group of sample given a selected window size (default is 2)."
   ]
  },
  {
   "cell_type": "markdown",
   "id": "39856c7d-1906-492d-bc4a-56b4ad1eb8ff",
   "metadata": {},
   "source": [
    "`moving_average_expanded(self, series, window_size = 2)`"
   ]
  },
  {
   "cell_type": "markdown",
   "id": "0349241e-2e27-4395-8fb9-90bcf639aaee",
   "metadata": {},
   "source": [
    "#### Args\n",
    "\n",
    "* `self`\n",
    "* `series` (np.ndarray): Data samples used.\n",
    "* `window_size` (int): The shifting window size for the computation."
   ]
  },
  {
   "cell_type": "markdown",
   "id": "ba9ce925-65d0-4f90-a6bd-db2ce89a2c06",
   "metadata": {},
   "source": [
    "#### Returns\n",
    "\n",
    "* `expanded_moving_avg` (np.ndarray): Vector of the moving average model (with position currespondance on the original data samples)."
   ]
  },
  {
   "cell_type": "code",
   "execution_count": null,
   "id": "92f11bf3-d89c-4136-b2fe-4dc6486a7475",
   "metadata": {},
   "outputs": [],
   "source": []
  },
  {
   "cell_type": "markdown",
   "id": "73c136b9-55f5-46a8-99f2-77d2400e0de3",
   "metadata": {
    "jp-MarkdownHeadingCollapsed": true
   },
   "source": [
    "### plot model"
   ]
  },
  {
   "cell_type": "markdown",
   "id": "20c34b39-693c-4116-b7ce-b4d32985d708",
   "metadata": {},
   "source": [
    "Creates the plotting showcasing the model fitting on the Time Series."
   ]
  },
  {
   "cell_type": "markdown",
   "id": "df61b014-0ad4-4ce0-b2fd-f5d1f3f25b23",
   "metadata": {},
   "source": [
    "`plot_model(self)`"
   ]
  },
  {
   "cell_type": "markdown",
   "id": "da488df0-b4a9-4cd3-bbe9-dc918f76b01e",
   "metadata": {},
   "source": [
    "#### Args\n",
    "\n",
    "* `self`"
   ]
  },
  {
   "cell_type": "markdown",
   "id": "c0db7154-c25f-4a63-aea3-9686c7ebbae6",
   "metadata": {},
   "source": [
    "#### Raises\n",
    "\n",
    "* `ValueError`: If a non supported model is selected."
   ]
  },
  {
   "cell_type": "code",
   "execution_count": null,
   "id": "8bab687d-bc25-4d58-bb0c-603859b2f1a3",
   "metadata": {},
   "outputs": [],
   "source": []
  },
  {
   "cell_type": "markdown",
   "id": "048f42fd-1d9e-45ef-9347-077976e446b5",
   "metadata": {
    "jp-MarkdownHeadingCollapsed": true
   },
   "source": [
    "### plot time series"
   ]
  },
  {
   "cell_type": "markdown",
   "id": "739e4138-41df-4831-af56-3fee1b5ddfb1",
   "metadata": {},
   "source": [
    "Creates the plotting showcasing the Time Series."
   ]
  },
  {
   "cell_type": "markdown",
   "id": "80a961ae-1d83-4002-b12b-136c5750bb22",
   "metadata": {},
   "source": [
    "`plot_time_series(self)`"
   ]
  },
  {
   "cell_type": "markdown",
   "id": "e8091366-78d0-4ce5-bd1b-dfe39f7fec74",
   "metadata": {},
   "source": [
    "#### Args\n",
    "\n",
    "* `self`"
   ]
  },
  {
   "cell_type": "code",
   "execution_count": null,
   "id": "d70c6f8b-6479-4160-8491-0da258b48197",
   "metadata": {},
   "outputs": [],
   "source": []
  },
  {
   "cell_type": "markdown",
   "id": "c0c46eea-7a7e-4fec-b580-52b39ecde62b",
   "metadata": {
    "jp-MarkdownHeadingCollapsed": true
   },
   "source": [
    "### plot distance"
   ]
  },
  {
   "cell_type": "markdown",
   "id": "483b67c1-46ef-4a2f-83a0-891dca6769dd",
   "metadata": {},
   "source": [
    "Creates the plotting showcasing the distance between a selected sample (first_sample_value) and the rest of the Time Series (batch)."
   ]
  },
  {
   "cell_type": "markdown",
   "id": "d8a77679-8b68-442e-af2c-0acc8d331584",
   "metadata": {},
   "source": [
    "`plot_distances_with_arrows(self)`"
   ]
  },
  {
   "cell_type": "markdown",
   "id": "9d90c23b-536c-4efd-9d21-39825ec684af",
   "metadata": {},
   "source": [
    "#### Args\n",
    "\n",
    "* `self`"
   ]
  },
  {
   "cell_type": "code",
   "execution_count": null,
   "id": "e32e763c-461e-468d-abf2-5bf542ba6453",
   "metadata": {},
   "outputs": [],
   "source": []
  },
  {
   "cell_type": "markdown",
   "id": "d0162bde-ef84-411c-b532-7021ae14757d",
   "metadata": {
    "jp-MarkdownHeadingCollapsed": true
   },
   "source": [
    "### radius adj"
   ]
  },
  {
   "cell_type": "markdown",
   "id": "52df090e-01a5-43ea-a4ee-cde3878cdcf6",
   "metadata": {},
   "source": [
    "Radius adjustment algorithm. Determinates the best radius value for the centers and batch in exam. Default the radius is set to 1.00 and then is tried enlarging or reducing for the covering achievement.  \n",
    "Adjust the exclusive tolerance (0.33 standard) for the max_non_center_value.  \n",
    "Adjust the inclusive tolerance ( /2 standard) for the normal values inclusion."
   ]
  },
  {
   "cell_type": "markdown",
   "id": "92091d12-9946-430a-8dd8-91bc9f41e17a",
   "metadata": {},
   "source": [
    "#### Args\n",
    "\n",
    "* `self`\n",
    "* `centers`: List of centers selected as 1s in the QAOA quantum state solution."
   ]
  },
  {
   "cell_type": "markdown",
   "id": "105442ad-f400-414b-b94e-cd637ebc66e5",
   "metadata": {},
   "source": [
    "#### Returns\n",
    "\n",
    "* `self.radius` (float): The optimal radius value identified for the batch at hand.\n"
   ]
  },
  {
   "cell_type": "code",
   "execution_count": null,
   "id": "1d377e3d-18a1-4601-a38a-17314e2cca11",
   "metadata": {},
   "outputs": [],
   "source": []
  },
  {
   "cell_type": "markdown",
   "id": "2f0a2429-dd7d-4d44-adf0-43c6eb08e865",
   "metadata": {
    "jp-MarkdownHeadingCollapsed": true
   },
   "source": [
    "### solve qubo"
   ]
  },
  {
   "cell_type": "markdown",
   "id": "b1e1821a-f8bd-45dc-a4c9-e58d4890338d",
   "metadata": {},
   "source": [
    "Solves the QUBO Anomaly Detection problem using the parameters defined in the class."
   ]
  },
  {
   "cell_type": "markdown",
   "id": "5dbf0f68-7087-4a87-908e-451dab807b62",
   "metadata": {},
   "source": [
    "`solve_qubo(self)`"
   ]
  },
  {
   "cell_type": "markdown",
   "id": "1d02587b-548c-4feb-81d2-bdd1a5a49573",
   "metadata": {},
   "source": [
    "#### Args\n",
    "\n",
    "* `self`"
   ]
  },
  {
   "cell_type": "markdown",
   "id": "205ad967-4feb-4c09-a193-c768f8fa18ae",
   "metadata": {},
   "source": [
    "#### Returns\n",
    "\n",
    "* `top_n_states` (List[List[int]]): The best binary solutions found for the QUBO problems.\n",
    "* `variables_dict` (dict): A dictionary with the values of the variables."
   ]
  },
  {
   "cell_type": "code",
   "execution_count": null,
   "id": "0a8cfa05-8125-41d0-9b12-8e21fba6bfb0",
   "metadata": {},
   "outputs": [],
   "source": []
  },
  {
   "cell_type": "markdown",
   "id": "8c7d45ba-fefd-4fb5-b36e-9036296e4aca",
   "metadata": {
    "jp-MarkdownHeadingCollapsed": true
   },
   "source": [
    "### centers storage"
   ]
  },
  {
   "cell_type": "markdown",
   "id": "dc88079a-8a84-4813-aa54-4c0b0fb28944",
   "metadata": {},
   "source": [
    "Stores the center coordinates corresponding to 1s in the QAOA solution (default is the first state if none is provided)."
   ]
  },
  {
   "cell_type": "markdown",
   "id": "b1acba31-105b-4f11-b94a-1c161d6df652",
   "metadata": {},
   "source": [
    "`centers_storage(self, state=None)`"
   ]
  },
  {
   "cell_type": "markdown",
   "id": "1992814d-9d0e-4b26-a73f-5020cd65bfcf",
   "metadata": {},
   "source": [
    "#### Args\n",
    "\n",
    "* `self`\n",
    "* `state` (List[int], optional): A binary list representing the QAOA solution state. If None, the function will use the first quantum state (most counts)."
   ]
  },
  {
   "cell_type": "markdown",
   "id": "4bc21d38-7705-46e9-abe6-348786a05d1f",
   "metadata": {},
   "source": [
    "#### Returns\n",
    "\n",
    "* `centers` (List[Tuple[int, float]]): A list of tuples, where each tuple contains a timestamp and its corresponding value for each selected center. These centers are identified by the positions in the solution string where the value is '1'."
   ]
  },
  {
   "cell_type": "code",
   "execution_count": null,
   "id": "33d58312-194c-4585-8a78-b5d30a771bcb",
   "metadata": {},
   "outputs": [],
   "source": []
  },
  {
   "cell_type": "markdown",
   "id": "9da6893e-2211-4e0c-b23e-71a7e8c5123f",
   "metadata": {
    "jp-MarkdownHeadingCollapsed": true
   },
   "source": [
    "### detect anomalies"
   ]
  },
  {
   "cell_type": "markdown",
   "id": "4a8fd0cd-f484-4f32-ab63-bfa6a2a445cb",
   "metadata": {},
   "source": [
    "Detects anomalies based on the selected centers in the QAOA solution state."
   ]
  },
  {
   "cell_type": "markdown",
   "id": "fa4f7d21-9a38-4e2a-b9e6-e5d66ca9d5d0",
   "metadata": {},
   "source": [
    "`detect_anomalies(self, state=None)`"
   ]
  },
  {
   "cell_type": "markdown",
   "id": "06eebda8-b2a8-4092-a580-d30664d1d10d",
   "metadata": {},
   "source": [
    "#### Args\n",
    "\n",
    "* `self`\n",
    "* `state` (List[int], optional): A binary list representing the QAOA solution state. If None, the function will use the first quantum state (most counts)."
   ]
  },
  {
   "cell_type": "markdown",
   "id": "26a5c4d4-ae69-4039-84fd-151ea43d09ec",
   "metadata": {},
   "source": [
    "#### Returns\n",
    "\n",
    "* `boxes` (List[Tuple[int, float]]): A list of tuples representing the coverage spheres for each center, where each box is centered around selected points and adjusted to cover surrounding data points."
   ]
  },
  {
   "cell_type": "code",
   "execution_count": null,
   "id": "4eafcfe5-a56b-4964-b74c-98f7fa1ed50d",
   "metadata": {},
   "outputs": [],
   "source": []
  },
  {
   "cell_type": "markdown",
   "id": "40ff61fb-af43-4f3d-a4c5-1a567ca6f80f",
   "metadata": {
    "jp-MarkdownHeadingCollapsed": true
   },
   "source": [
    "### associate centers with radius"
   ]
  },
  {
   "cell_type": "markdown",
   "id": "780912b0-8c4a-4376-bd58-e7359be893b4",
   "metadata": {},
   "source": [
    "Associates each center with the corresponding calculated radius."
   ]
  },
  {
   "cell_type": "markdown",
   "id": "4ee2bc50-29ef-4fde-b58d-fde2f691390a",
   "metadata": {},
   "source": [
    "`associate_centers_with_radius(self, state=None)`"
   ]
  },
  {
   "cell_type": "markdown",
   "id": "6529ee36-9708-4f9e-b85b-abb4812b79f3",
   "metadata": {},
   "source": [
    "#### Args\n",
    "\n",
    "* `self` \n",
    "* `state` (list, optional): A binary list representing the QAOA solution state. If None, the function will retrieve the best solution available."
   ]
  },
  {
   "cell_type": "markdown",
   "id": "fa2d5050-187c-45d3-9cca-003462edb7c5",
   "metadata": {},
   "source": [
    "#### Returns\n",
    "\n",
    "* `centers_with_radius` (list of tuples): A list of (center, radius) pairs, where each center has an associated radius."
   ]
  },
  {
   "cell_type": "code",
   "execution_count": null,
   "id": "1a6079d1-3125-4265-8a72-d7843b13483c",
   "metadata": {},
   "outputs": [],
   "source": []
  },
  {
   "cell_type": "markdown",
   "id": "713a1d6c-2ad4-46d6-94df-0da30cbaa285",
   "metadata": {
    "jp-MarkdownHeadingCollapsed": true
   },
   "source": [
    "### visualize anomalies"
   ]
  },
  {
   "cell_type": "markdown",
   "id": "e151d1c9-8fdc-43a7-8301-765087c93a50",
   "metadata": {},
   "source": [
    "Visualizes anomalies detected by the QAOA model, highlighting centers and coverage areas on a scatter plot.  \n",
    "Adjust the plot title at will. "
   ]
  },
  {
   "cell_type": "markdown",
   "id": "e01ccecd-2332-477d-976d-317e23ff6450",
   "metadata": {},
   "source": [
    "`visualize_anomalies(self, state=None)`"
   ]
  },
  {
   "cell_type": "markdown",
   "id": "d2278e6c-1ddd-4339-9195-7340839dc3b6",
   "metadata": {},
   "source": [
    "#### Args\n",
    "\n",
    "* `self`\n",
    "* `state` (List[int], optional): A binary list representing the QAOA solution state. If None, the function will use the first quantum state (most counts)."
   ]
  },
  {
   "cell_type": "code",
   "execution_count": null,
   "id": "ef6ef89f-e560-4209-8078-c39bd6350350",
   "metadata": {},
   "outputs": [],
   "source": []
  },
  {
   "cell_type": "markdown",
   "id": "431ca502-1345-4c99-afa4-14d2e39477f8",
   "metadata": {
    "jp-MarkdownHeadingCollapsed": true
   },
   "source": [
    "### cost function"
   ]
  },
  {
   "cell_type": "markdown",
   "id": "c2a16b38-135e-4f76-a0f8-b7e5e1b1dd09",
   "metadata": {},
   "source": [
    "Calculates the cost for a given QAOA solution state based on the matrix M."
   ]
  },
  {
   "cell_type": "markdown",
   "id": "b22e193f-d796-4e7a-9ae1-875ec4734a9a",
   "metadata": {},
   "source": [
    "`cost_function(self, M, state)`"
   ]
  },
  {
   "cell_type": "markdown",
   "id": "8144fe23-d562-48f6-801e-a4b96d6af726",
   "metadata": {},
   "source": [
    "#### Args\n",
    "\n",
    "* `self`\n",
    "* `M`(np.ndarray): A square symmetric matrix representing interactions between variables. The diagonal elements represents linear terms, while the off-diagonal elements represent quadratic terms.\n",
    "* `state` (np.ndarray): A binary vector (1D array) representing the QAOA solution state. The length of \"state\" should match the dimensions of \"M\"."
   ]
  },
  {
   "cell_type": "markdown",
   "id": "46c8eab1-597b-472a-9cbe-ee0333c589aa",
   "metadata": {},
   "source": [
    "#### Returns\n",
    "\n",
    "* `cost` (float): The calculated cost for the given state, based on the weighted sum of linear and quadratic terms."
   ]
  },
  {
   "cell_type": "markdown",
   "id": "44da3027-9ae1-4fd8-aba5-560e4169ebba",
   "metadata": {},
   "source": [
    "#### Raises\n",
    "\n",
    "* `ValueError`: If the dimension of `state` does not match the dimension of \"M\"."
   ]
  },
  {
   "cell_type": "code",
   "execution_count": null,
   "id": "512c30c7-e18c-4ebe-991b-5f3b6d7c4500",
   "metadata": {},
   "outputs": [],
   "source": []
  },
  {
   "cell_type": "markdown",
   "id": "5168718e-bfe6-4452-a6e8-54fb8cfa1c63",
   "metadata": {
    "jp-MarkdownHeadingCollapsed": true
   },
   "source": [
    "### find max cost"
   ]
  },
  {
   "cell_type": "markdown",
   "id": "2d4887b4-ae8b-4f30-8f8f-f0322e41b5f7",
   "metadata": {},
   "source": [
    "Finds the state with the maximum cost for a given matrix M."
   ]
  },
  {
   "cell_type": "markdown",
   "id": "ccc02ac7-f49e-455a-b326-def91b5b1c14",
   "metadata": {},
   "source": [
    "`find_max_cost(self, M)`"
   ]
  },
  {
   "cell_type": "markdown",
   "id": "02b49680-cfd5-44c1-86a9-6525fe3c9e80",
   "metadata": {},
   "source": [
    "#### Args\n",
    "\n",
    "* `self`\n",
    "* `M` (np.ndarray): A square symmetric matrix representing interactions between variables, with diagonal elements representing linear terms and off-diagonal elements representing quadratic terms."
   ]
  },
  {
   "cell_type": "markdown",
   "id": "f31c2fe0-8caf-4f60-9923-8e5d8474c397",
   "metadata": {},
   "source": [
    "#### Returns\n",
    "\n",
    "* `best_state` (np.ndarray): A binary array representing the state that maximizes the cost function.\n",
    "* `max_cost` (float): The maximum cost value obtained with the best state."
   ]
  },
  {
   "cell_type": "code",
   "execution_count": null,
   "id": "13ad3cc5-d9e9-4024-b883-63abbe2f3c75",
   "metadata": {},
   "outputs": [],
   "source": []
  },
  {
   "cell_type": "markdown",
   "id": "7ea2dac9-3918-42e8-950d-9319673e36d9",
   "metadata": {
    "jp-MarkdownHeadingCollapsed": true
   },
   "source": [
    "### find min cost"
   ]
  },
  {
   "cell_type": "markdown",
   "id": "be0587c8-803a-4df3-92fd-ff7000bf75f4",
   "metadata": {},
   "source": [
    "Finds the state with the minimum cost for a given matrix M."
   ]
  },
  {
   "cell_type": "markdown",
   "id": "6cae15dc-81fb-42b0-a080-7a986bee8197",
   "metadata": {},
   "source": [
    "`find_min_cost(self, M)`"
   ]
  },
  {
   "cell_type": "markdown",
   "id": "06dce891-6f12-4ac5-af28-67f759df3916",
   "metadata": {},
   "source": [
    "#### Args\n",
    "\n",
    "* `self`\n",
    "*  `M` (np.ndarray): A square symmetric matrix representing interactions between variables, with diagonal elements representing linear terms and off diagonal elements representing quadratic terms."
   ]
  },
  {
   "cell_type": "markdown",
   "id": "69c5e298-3445-439f-834f-24332e8b2929",
   "metadata": {},
   "source": [
    "#### Returns\n",
    "\n",
    "* `best_state` (np.ndarray): A binary array representing the state that minimizes the cost function.\n",
    "*  `min_cost` (float): The minimum cost value obtained with the best state."
   ]
  },
  {
   "cell_type": "code",
   "execution_count": null,
   "id": "b1943709-e322-44b8-af5c-f741683776e7",
   "metadata": {},
   "outputs": [],
   "source": []
  }
 ],
 "metadata": {
  "kernelspec": {
   "display_name": "Python 3 (ipykernel)",
   "language": "python",
   "name": "python3"
  },
  "language_info": {
   "codemirror_mode": {
    "name": "ipython",
    "version": 3
   },
   "file_extension": ".py",
   "mimetype": "text/x-python",
   "name": "python",
   "nbconvert_exporter": "python",
   "pygments_lexer": "ipython3",
   "version": "3.11.9"
  }
 },
 "nbformat": 4,
 "nbformat_minor": 5
}
