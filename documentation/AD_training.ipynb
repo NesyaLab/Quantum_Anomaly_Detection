{
 "cells": [
  {
   "cell_type": "markdown",
   "id": "f03d118b-05fa-4deb-adf9-67ee1a76bd59",
   "metadata": {},
   "source": [
    "# AD_QAOA training functions (AD_training)"
   ]
  },
  {
   "cell_type": "markdown",
   "id": "01eb2f25-3ac0-4317-a3ea-39ab8b176410",
   "metadata": {},
   "source": [
    "This file contains the functions used for the training of the $\\alpha$ and $\\beta$ paramethers of the AD_QAOA class."
   ]
  },
  {
   "cell_type": "markdown",
   "id": "bea5be2d-80a7-4d89-beea-d9e398eae055",
   "metadata": {},
   "source": [
    "### grid search alpha beta"
   ]
  },
  {
   "cell_type": "markdown",
   "id": "59ace0c0-7ab9-46d7-b4fa-e1011d4038bf",
   "metadata": {},
   "source": [
    "First grid-search approach for single batch (or small dataset) application and testing. Performs a grid search over a range of alpha values to find the optimal (alpha, beta) pair for minimizing the QAOA cost function on a given dataset."
   ]
  },
  {
   "cell_type": "markdown",
   "id": "365bf994-9b9f-4848-a6c4-a5bb2d130ec3",
   "metadata": {},
   "source": [
    "`grid_search_alpha_beta(X, alpha_range=np.linspace(-1, 0, 10))`"
   ]
  },
  {
   "cell_type": "markdown",
   "id": "28c3239e-be9c-4552-9c16-0ef3083a70c2",
   "metadata": {},
   "source": [
    "#### Args \n",
    "\n",
    "* `X` (list of tuples): The dataset represented as a list of (timestamp, value) pairs.\n",
    "* `alpha_range` (np.ndarray, optional): A range of alpha values to search. Default is a linearly spaced range from -1 to 0 with 10 values."
   ]
  },
  {
   "cell_type": "markdown",
   "id": "76b0fd4d-92d3-45b5-bbfe-ae16d64f6844",
   "metadata": {},
   "source": [
    "#### Returns \n",
    "\n",
    "* `best_alpha` (float): The alpha value that results in the minimum cost.\n",
    "* `best_beta` (float): The corresponding beta value (1 + alpha) for the optimal alpha.\n",
    "* `best_cost` (float): The minimum cost value achieved.\n",
    "* `best_state` (np.ndarray): The QAOA state that achieves the best cost."
   ]
  },
  {
   "cell_type": "code",
   "execution_count": null,
   "id": "7c35ffaa-722a-48ad-9aa9-b74aae8d5b60",
   "metadata": {},
   "outputs": [],
   "source": []
  },
  {
   "cell_type": "markdown",
   "id": "59d6abc2-6899-422e-ab95-d9fea1d40e5a",
   "metadata": {},
   "source": [
    "### rank grid search"
   ]
  },
  {
   "cell_type": "markdown",
   "id": "3169f086-d703-498c-a946-b622fe7d5532",
   "metadata": {},
   "source": [
    "Performs a grid search over a range of alpha values, ranks the configurations by the number of selected elements as centers for the coverage (string rank), and returns a sorted list of results."
   ]
  },
  {
   "cell_type": "markdown",
   "id": "588ae5d0-620b-4308-92cc-9f6bcf5d2686",
   "metadata": {},
   "source": [
    "`rank_grid_search(X, alpha_range=np.linspace(-1, 0, 10))`"
   ]
  },
  {
   "cell_type": "markdown",
   "id": "ef207a31-4816-4c91-82ea-61094c8c383b",
   "metadata": {},
   "source": [
    "#### Args\n",
    "\n",
    "* `X` (list of tuples): The dataset represented as a list of (timestamp, value) pairs as a usual time series.\n",
    "* `alpha_range` (np.ndarray, optional): A range of alpha values to search. Default is a linearly spaced range from -1 to 0 with 10 values."
   ]
  },
  {
   "cell_type": "markdown",
   "id": "d62f3db1-7291-491f-bb20-f79f30739d41",
   "metadata": {},
   "source": [
    "#### Returns\n",
    "\n",
    "* `sorted_results`(list of dicts): A list of dictionaries containing details for each configuration, \n",
    "                                        sorted by 'string_rank'. Each dictionary includes:  \n",
    "                                        - 'alpha': The alpha value used.  \n",
    "                                        - 'beta': The corresponding beta value (1 + alpha).  \n",
    "                                        - 'qaoa_state': The QAOA solution state.  \n",
    "                                        - 'qaoa_cost': The cost for the QAOA state.  \n",
    "                                        - 'classical_cost': The minimum cost obtained classically.  \n",
    "                                        - 'approx_ratio': The approximation ratio (QAOA cost / classical cost).  \n",
    "                                        - 'string_rank': The count of '1's in the QAOA state.  "
   ]
  },
  {
   "cell_type": "code",
   "execution_count": null,
   "id": "0c0fdd4d-a1ae-4bc0-bf7a-514b12730d2e",
   "metadata": {},
   "outputs": [],
   "source": []
  },
  {
   "cell_type": "markdown",
   "id": "e41ec772-536e-48f5-b6d8-f50e47ff13c0",
   "metadata": {},
   "source": [
    "### collect normalized rank data"
   ]
  },
  {
   "cell_type": "markdown",
   "id": "043dcff0-de96-4401-8b78-d3650af37bd2",
   "metadata": {},
   "source": [
    "Collects and normalizes the rank data from multiple epochs of QAOA results."
   ]
  },
  {
   "cell_type": "markdown",
   "id": "81786ffb-3b66-4cf8-8500-391c1e19992e",
   "metadata": {},
   "source": [
    "`collect_normalized_rank_data(all_epoch_results)`"
   ]
  },
  {
   "cell_type": "markdown",
   "id": "d5ab3e17-e3e1-45f0-9af8-bea08f98b93d",
   "metadata": {},
   "source": [
    "#### Args\n",
    "\n",
    "* `all_epoch_results` (list of lists): A list where each element is a list of dictionaries representing results for an epoch. Each dictionary contains 'alpha','beta', 'qaoa_state', and 'string_rank'."
   ]
  },
  {
   "cell_type": "markdown",
   "id": "ee4b9901-2d2d-4c9e-b584-913a2f63d0ac",
   "metadata": {},
   "source": [
    "#### Returns\n",
    "\n",
    "* `alpha_values` (list of float): A list of alpha values from all epochs.\n",
    "* `beta_values` (list of float): A list of beta values corresponding to each alpha.\n",
    "* `normalized_rank_values` (list of float): A list of normalized rank values, calculated as the ratio of 'string_rank' to the length of 'qaoa_state' for each result."
   ]
  },
  {
   "cell_type": "markdown",
   "id": "25a7b8e4-0664-4660-ab95-691c2269b15d",
   "metadata": {},
   "source": [
    "### calculate mean $\\alpha$ $\\beta$"
   ]
  },
  {
   "cell_type": "markdown",
   "id": "526b5711-a385-4039-8a01-4d2c66c54d89",
   "metadata": {},
   "source": [
    "Calculates the mean alpha and beta values based on a specific position in the ranking."
   ]
  },
  {
   "cell_type": "markdown",
   "id": "6d45735c-31b7-4980-8571-1832b9ea41fc",
   "metadata": {},
   "source": [
    "`calculate_mean_alpha_beta(all_epoch_results, selected_position)`"
   ]
  },
  {
   "cell_type": "markdown",
   "id": "575669aa-e433-48da-8d2a-0b70b0382808",
   "metadata": {},
   "source": [
    "#### Args\n",
    "\n",
    "* `all_epoch_results` (list of lists): A list where each element is a list of dictionaries representing results for an epoch. Each dictionary should contain 'alpha' and 'beta'.\n",
    "* `selected_position` (int): The ranking position to select for averaging alpha and beta values."
   ]
  },
  {
   "cell_type": "markdown",
   "id": "9b8588e8-d084-40ed-b026-093def066233",
   "metadata": {},
   "source": [
    "#### Returns\n",
    "\n",
    "* `alpha_mean` (float): The mean alpha value for the specified ranking position across epochs.\n",
    "* `beta_mean` (float): The mean beta value for the specified ranking position across epochs.\n",
    "* If no results are found at the specified position, returns (None, None)."
   ]
  },
  {
   "cell_type": "code",
   "execution_count": null,
   "id": "a8162fc2-4f94-4b76-a37c-12e621fac0fb",
   "metadata": {},
   "outputs": [],
   "source": []
  }
 ],
 "metadata": {
  "kernelspec": {
   "display_name": "Python 3 (ipykernel)",
   "language": "python",
   "name": "python3"
  },
  "language_info": {
   "codemirror_mode": {
    "name": "ipython",
    "version": 3
   },
   "file_extension": ".py",
   "mimetype": "text/x-python",
   "name": "python",
   "nbconvert_exporter": "python",
   "pygments_lexer": "ipython3",
   "version": "3.11.9"
  }
 },
 "nbformat": 4,
 "nbformat_minor": 5
}
