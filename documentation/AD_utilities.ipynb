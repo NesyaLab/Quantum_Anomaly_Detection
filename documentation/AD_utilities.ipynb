{
 "cells": [
  {
   "cell_type": "markdown",
   "id": "6dbedfc0-465a-4e1f-8651-86d31ed176dc",
   "metadata": {},
   "source": [
    "# AD_QAOA detection and visualization auxiliary function (AD_detection)"
   ]
  },
  {
   "cell_type": "markdown",
   "id": "7e49868b-ad30-4a10-b858-a4171378fbcd",
   "metadata": {},
   "source": [
    "This file contains some utilities function used for the correct execution and visualization of the AD_QAOA class."
   ]
  },
  {
   "cell_type": "markdown",
   "id": "5ae12792-4ae1-40bf-82aa-610aa13ce83b",
   "metadata": {},
   "source": [
    "### plot training time series"
   ]
  },
  {
   "cell_type": "markdown",
   "id": "d08bcd1c-bb39-4ccc-9d47-d1fe7e4d23dd",
   "metadata": {},
   "source": [
    "Plots the training time series."
   ]
  },
  {
   "cell_type": "markdown",
   "id": "d8ae0a97-df60-4146-bb8c-cb43fa618189",
   "metadata": {},
   "source": [
    "`plot_training_time_series(dataset_train)`"
   ]
  },
  {
   "cell_type": "markdown",
   "id": "0b32f44f-3d4c-4c73-a26a-9c99b940c5e4",
   "metadata": {},
   "source": [
    "#### Args\n",
    "\n",
    "* `dataset_train` (list of tuples): The training dataset represented as a list of (timestamp, value) pairs."
   ]
  },
  {
   "cell_type": "code",
   "execution_count": null,
   "id": "7fe4904b-e75b-4820-a792-a9c5cba51a2e",
   "metadata": {},
   "outputs": [],
   "source": []
  },
  {
   "cell_type": "markdown",
   "id": "8ae02325-5e27-466f-a4a6-084a3f611471",
   "metadata": {},
   "source": [
    "### plot test time series"
   ]
  },
  {
   "cell_type": "markdown",
   "id": "44f58fef-c303-4257-bc33-4d920907ec46",
   "metadata": {},
   "source": [
    "Plots the test time series."
   ]
  },
  {
   "cell_type": "markdown",
   "id": "f5421f9a-d89a-4799-92bb-969186947884",
   "metadata": {},
   "source": [
    "`plot_test_time_series(dataset_train)`"
   ]
  },
  {
   "cell_type": "markdown",
   "id": "63977307-dda3-479a-b0f7-f1c6ba918096",
   "metadata": {},
   "source": [
    "#### Args\n",
    "\n",
    "* `dataset_test` (list of tuples): he test dataset represented as a list of (timestamp, value) pairs."
   ]
  },
  {
   "cell_type": "code",
   "execution_count": null,
   "id": "0b9d2305-fa54-48a6-90fa-f76353e5a229",
   "metadata": {},
   "outputs": [],
   "source": []
  },
  {
   "cell_type": "markdown",
   "id": "056d8a22-246c-45e9-94f9-91776eb67c5f",
   "metadata": {},
   "source": [
    "### plot training time series batches"
   ]
  },
  {
   "cell_type": "markdown",
   "id": "4447e35b-8227-479a-a447-9b843e8d92ca",
   "metadata": {},
   "source": [
    "Plots the training time series divided into batches, with vertical lines separating each batch."
   ]
  },
  {
   "cell_type": "markdown",
   "id": "41bc7258-d0bc-46f3-b07c-94b4bef55d12",
   "metadata": {},
   "source": [
    "`plot_training_time_series_batches(dataset_train, overlap=2, batch_sizes=[7, 8, 9])`"
   ]
  },
  {
   "cell_type": "markdown",
   "id": "c29d60f4-0b55-4cf3-a060-692852bfe900",
   "metadata": {},
   "source": [
    "#### Args\n",
    "\n",
    "* `dataset_train` (list of tuples): The training dataset represented as a list of (timestamp, value) pairs.\n",
    "* `overlap` (int, optional): The number of overlapping samples between consecutive batches. Default is 2.\n",
    "* `batch_sizes` (list of int, optional): List of possible batch sizes to test for splitting the dataset. Default is [7, 8, 9]."
   ]
  },
  {
   "cell_type": "code",
   "execution_count": null,
   "id": "2d7074fa-792e-495c-a5c6-90840f8b9d65",
   "metadata": {},
   "outputs": [],
   "source": []
  },
  {
   "cell_type": "markdown",
   "id": "2d4d06a1-4656-4024-80db-3321173e3c97",
   "metadata": {},
   "source": [
    "### plot benchmark results"
   ]
  },
  {
   "cell_type": "markdown",
   "id": "414d2b23-d17d-4067-a5d5-2ab782f083c9",
   "metadata": {},
   "source": [
    "Plots the dataset with anomalies highlighted for benchmarking a classical model."
   ]
  },
  {
   "cell_type": "markdown",
   "id": "2c2ff024-46c9-483e-bb66-8f23d265c200",
   "metadata": {},
   "source": [
    "`plot_benchmark_results(data, anomalies, title=\"Classical Model Anomaly Detection\")`"
   ]
  },
  {
   "cell_type": "markdown",
   "id": "e4712a55-a674-40f6-9b73-745be5269631",
   "metadata": {},
   "source": [
    "#### Args\n",
    "\n",
    "* `times` (list): A list of timestamps for the dataset.\n",
    "* `values` (list): A list of values corresponding to each timestamp in the dataset.\n",
    "* `anomalies` (list): A list of timestamps identified as anomalies.\n",
    "* `title` (str, optional): The title of the plot. Default is \"Classical Model Anomaly Detection\".\n",
    "\n"
   ]
  },
  {
   "cell_type": "code",
   "execution_count": null,
   "id": "f8f6a925-2d5c-48cf-b07f-adbff5ce9029",
   "metadata": {},
   "outputs": [],
   "source": []
  },
  {
   "cell_type": "markdown",
   "id": "2461a045-0784-41ee-acc7-9d8bc2d4dbbb",
   "metadata": {},
   "source": [
    "### execute batch processing"
   ]
  },
  {
   "cell_type": "markdown",
   "id": "15e8db77-bca3-4429-bae0-334620038701",
   "metadata": {},
   "source": [
    "Executes a grid search over alpha values for each batch, calculates the mean alpha and beta values, and collects normalized rank data."
   ]
  },
  {
   "cell_type": "markdown",
   "id": "70425ca8-fdd7-4374-8cde-1ea1fea47e03",
   "metadata": {},
   "source": [
    "`execute_batch_processing(batches, alpha_range=np.linspace(-1, 0, 10), selected_position=1)`"
   ]
  },
  {
   "cell_type": "markdown",
   "id": "a93e37bf-4629-4b94-b41c-a3b12b615e18",
   "metadata": {},
   "source": [
    "#### Args\n",
    "\n",
    "* `batches` (list of lists): A list where each element is a batch represented as a list of (timestamp, value) pairs.\n",
    "* `alpha_range` (np.ndarray, optional): A range of alpha values to search for each batch. Default is a linearly spaced range from -1 to 0 with 10 values.\n",
    "* `selected_position` (int, optional): The ranking position used to calculate the mean alpha and beta values. Default is 1."
   ]
  },
  {
   "cell_type": "markdown",
   "id": "32e5c543-ef56-4be8-949c-2956b0cb9b97",
   "metadata": {},
   "source": [
    "#### Returns\n",
    "\n",
    "* `alpha_mean` (float): The mean alpha value for the specified ranking position across batches.\n",
    "* `beta_mean` (float): The mean beta value for the specified ranking position across batches.\n",
    "* `alpha_values` (list of float): A list of alpha values from all batches.\n",
    "* `beta_values` (list of float): A list of beta values corresponding to each alpha.\n",
    "* `normalized_rank_values` (list of float): A list of normalized rank values for each batch."
   ]
  },
  {
   "cell_type": "code",
   "execution_count": null,
   "id": "348bee7c-eb83-437c-ad05-2ad3bf1a4634",
   "metadata": {},
   "outputs": [],
   "source": []
  },
  {
   "cell_type": "markdown",
   "id": "73d7df21-deda-4728-9ec2-2c63ee701e00",
   "metadata": {},
   "source": [
    "### execute qaoa on batches"
   ]
  },
  {
   "cell_type": "markdown",
   "id": "8701887e-46e0-4c08-bf31-1e0765f916f4",
   "metadata": {},
   "source": [
    "Executes the QAOA class on each batch, associates centers with radii, and collects unique centers across all batches."
   ]
  },
  {
   "cell_type": "markdown",
   "id": "9aaed3c4-2f97-4b19-adce-a0e7484113b7",
   "metadata": {},
   "source": [
    "`execute_qaoa_on_batches(batches, model_name='cubic', model_params={}, alpha_mean=None, beta_mean=None)`"
   ]
  },
  {
   "cell_type": "markdown",
   "id": "5d494f4b-f97e-4156-8893-74a671655c90",
   "metadata": {},
   "source": [
    "#### Args\n",
    "\n",
    "* `batches` (list of lists): A list where each element is a batch represented as a list of (timestamp, value) pairs.\n",
    "* `model_name` (str, optional): The name of the model used in the AD_QAOA class. Default is 'cubic'.\n",
    "* `model_params` (dict, optional): Parameters for the model used in the AD_QAOA class. Default is an empty dictionary.\n",
    "* `alpha_mean` (float, optional): The mean alpha value used to initialize AD_QAOA. If None, it must be calculated beforehand.\n",
    "* `beta_mean` (float, optional): The mean beta value used to initialize AD_QAOA. If None, it must be calculated beforehand."
   ]
  },
  {
   "cell_type": "markdown",
   "id": "464a9cc8-eac5-4b60-bc6e-cbea865c4b97",
   "metadata": {},
   "source": [
    "#### Returns\n",
    "\n",
    "* `unique_centers_with_radii` (list of tuples): A list of unique centers with associated radii across all batches."
   ]
  },
  {
   "cell_type": "code",
   "execution_count": null,
   "id": "006bcd1e-03ac-4e65-acb0-13e914ceaa2b",
   "metadata": {},
   "outputs": [],
   "source": []
  }
 ],
 "metadata": {
  "kernelspec": {
   "display_name": "Python 3 (ipykernel)",
   "language": "python",
   "name": "python3"
  },
  "language_info": {
   "codemirror_mode": {
    "name": "ipython",
    "version": 3
   },
   "file_extension": ".py",
   "mimetype": "text/x-python",
   "name": "python",
   "nbconvert_exporter": "python",
   "pygments_lexer": "ipython3",
   "version": "3.11.9"
  }
 },
 "nbformat": 4,
 "nbformat_minor": 5
}
