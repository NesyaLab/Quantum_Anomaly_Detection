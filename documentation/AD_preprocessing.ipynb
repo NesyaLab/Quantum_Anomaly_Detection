{
 "cells": [
  {
   "cell_type": "markdown",
   "id": "179cf3c5-173a-42c6-b07e-73935e3e205e",
   "metadata": {},
   "source": [
    "# AD_QAOA dataset preprocessing functions (AD_detection)"
   ]
  },
  {
   "cell_type": "markdown",
   "id": "c907a31b-2ba5-4c50-8fad-c6c9cb7ac3b6",
   "metadata": {},
   "source": [
    "This file contains the functions used for the preprocessing of the dataset used and analized with the AD_QAOA class."
   ]
  },
  {
   "cell_type": "markdown",
   "id": "a43e5f06-d4a7-4861-b594-3bed8560c48e",
   "metadata": {},
   "source": [
    "### generate dataset"
   ]
  },
  {
   "cell_type": "markdown",
   "id": "f832d85a-7dfb-4a8a-8bba-68cc4a52c85e",
   "metadata": {},
   "source": [
    "Generates a dataset containing both normal and outlier samples based on specified distributions and parameters. Normal and outlier samples are shuffled to randomize order, and timestamps are assigned sequentially."
   ]
  },
  {
   "cell_type": "markdown",
   "id": "92de314b-9003-491c-9d83-1b8e5968950c",
   "metadata": {},
   "source": [
    "`generate_dataset(normal_sample_type, normal_sample_params, outlier_sample_type, outlier_sample_params)`"
   ]
  },
  {
   "cell_type": "markdown",
   "id": "d1ef3091-246a-4f68-b918-f1cbb75b3270",
   "metadata": {},
   "source": [
    "#### Args\n",
    "\n",
    "* `normal_sample_type` (str): The distribution type for normal samples. Options are 'uniform', 'normal', 'exponential', or 'poisson'.\n",
    "* `normal_sample_params` (dict): Parameters for the normal sample distribution, passed as keyword arguments to the corresponding numpy random function.\n",
    "* `outlier_sample_type` (str): The distribution type for outlier samples. Options are 'uniform', 'normal', 'exponential', or 'poisson'.\n",
    "* `outlier_sample_params` (dict): Parameters for the outlier sample distribution, passed as keyword arguments to the corresponding numpy random function."
   ]
  },
  {
   "cell_type": "markdown",
   "id": "8d3ebc71-a0cf-442c-8f4c-69e45e61f94a",
   "metadata": {},
   "source": [
    "#### Returns\n",
    "\n",
    "* `dataset` (list of tuples): A list of tuples, where each tuple contains a timestamp and a value. Timestamps are generated sequentially.\n",
    "* `outlier_indices` (set): A set of indices representing the positions of the outlier samples in the dataset."
   ]
  },
  {
   "cell_type": "markdown",
   "id": "85e1174f-882e-4f06-8237-1d7596be75e9",
   "metadata": {},
   "source": [
    "#### Raises\n",
    "\n",
    "* `ValueError`: If either the \"normal_sample_type\" or \"outlier_sample_type\" is unsupported."
   ]
  },
  {
   "cell_type": "code",
   "execution_count": null,
   "id": "7945fc2c-8a69-4a56-ace8-d21f5927d83e",
   "metadata": {},
   "outputs": [],
   "source": []
  },
  {
   "cell_type": "markdown",
   "id": "fca5c218-ca8d-4315-9133-c6b4dd5b837e",
   "metadata": {},
   "source": [
    "### scale dataset"
   ]
  },
  {
   "cell_type": "markdown",
   "id": "1362ccd8-fef8-480a-9628-6e2422700d8e",
   "metadata": {},
   "source": [
    "Scales the values in the dataset to a specified range [new_min, new_max], maintaining the relative proportions of the original values."
   ]
  },
  {
   "cell_type": "markdown",
   "id": "a0e627b1-6136-4514-b156-93ef10894a0e",
   "metadata": {},
   "source": [
    "`scale_dataset(dataset, new_min=1, new_max=10)`"
   ]
  },
  {
   "cell_type": "markdown",
   "id": "f85cb1d1-fc57-4ba7-86ef-ce8dd80a666c",
   "metadata": {},
   "source": [
    "#### Args\n",
    "\n",
    "* `dataset` (list of tuples): A list of (timestamp, value) pairs representing the dataset (Time_series).\n",
    "* `new_min` (float, optional): The minimum value of the scaled range. Default is 1.\n",
    "* `new_max` (float, optional): The maximum value of the scaled range. Default is 10."
   ]
  },
  {
   "cell_type": "markdown",
   "id": "9ac74c18-b4f0-45e4-b018-6e6c266c94f0",
   "metadata": {},
   "source": [
    "#### Returns\n",
    "\n",
    "* `scaled_dataset` (list of tuples): A list of (timestamp, scaled_value) pairs, where each value has been scaled to the specified range."
   ]
  },
  {
   "cell_type": "code",
   "execution_count": null,
   "id": "4264e7e7-ca60-4267-93cd-39ac2e1fa3f7",
   "metadata": {},
   "outputs": [],
   "source": []
  },
  {
   "cell_type": "markdown",
   "id": "dea89f1b-685f-4755-ab31-b120554904dc",
   "metadata": {},
   "source": [
    "### load dataset from csv"
   ]
  },
  {
   "cell_type": "markdown",
   "id": "3f786633-4fe7-4e29-9e4a-c1385ee1f2ba",
   "metadata": {},
   "source": [
    "Loads a dataset from a CSV file, mapping timestamps to values and returning the dataset along with the original time values (so they can be used/displayed if needed)."
   ]
  },
  {
   "cell_type": "markdown",
   "id": "1dafcdda-118f-467c-9584-7311ed58c35b",
   "metadata": {},
   "source": [
    "`load_dataset_from_csv(file_path: str, time_column: str, value_column: str)`"
   ]
  },
  {
   "cell_type": "markdown",
   "id": "a23b02bc-2c51-4989-97ff-22d75f48fcf5",
   "metadata": {},
   "source": [
    "#### Args\n",
    "\n",
    "* `file_path` (str): The path to the CSV file.\n",
    "* `time_column` (str): The name of the column containing time data.\n",
    "* `value_column` (str): The name of the column containing value data."
   ]
  },
  {
   "cell_type": "markdown",
   "id": "6e893a40-0c01-4df1-91e5-528a6ea260fe",
   "metadata": {},
   "source": [
    "#### Returns\n",
    "\n",
    "* `dataset` (list of tuples): A list of (timestamp, value) pairs with sequentially generated timestamps.\n",
    "* `outlier_indices` (set): A set of indices representing the positions of the outlier samples in the dataset.\n",
    "* `normalized_rank_values` (list of float): A list of normalized rank values, calculated as the ratio of 'string_rank' to the length of 'qaoa_state' for each result."
   ]
  },
  {
   "cell_type": "code",
   "execution_count": null,
   "id": "fe54298a-7466-42d5-a9f5-d17305711bca",
   "metadata": {},
   "outputs": [],
   "source": []
  },
  {
   "cell_type": "markdown",
   "id": "d5a4db68-f036-439a-9da4-5891f42d47b9",
   "metadata": {},
   "source": [
    "### load partial dataset from csv"
   ]
  },
  {
   "cell_type": "markdown",
   "id": "95aa371c-a774-4d3d-9292-9f8d51a29572",
   "metadata": {},
   "source": [
    "Loads a portion of the dataset from a CSV file and renumbers timestamps from 0 to (end - start)."
   ]
  },
  {
   "cell_type": "markdown",
   "id": "a171c78b-1948-4841-b48a-ef7b05ba0706",
   "metadata": {},
   "source": [
    "`load_partial_dataset_from_csv(file_path, time_column, value_column, start, end)`"
   ]
  },
  {
   "cell_type": "markdown",
   "id": "8e9428e5-7ed7-49cb-9dd9-46c2acb0e345",
   "metadata": {},
   "source": [
    "#### Args\n",
    "\n",
    "* `file_path` (str): Path to the CSV file.\n",
    "* `time_column` (str): Name of the column containing timestamp data.\n",
    "* `value_column` (str): Name of the column containing value data.\n",
    "* `start` (int): Starting index of the data range to load.\n",
    "* `end` (int): Ending index of the data range to load.\n"
   ]
  },
  {
   "cell_type": "markdown",
   "id": "18ef2b79-cd26-42f6-b373-5e79a702f6d7",
   "metadata": {},
   "source": [
    "#### Returns\n",
    "\n",
    "* `dataset` (list of tuples): A list of (timestamp, value) pairs with renumbered timestamps.\n",
    "* `original_times` (np.ndarray): An array of original time values from the selected range."
   ]
  },
  {
   "cell_type": "code",
   "execution_count": null,
   "id": "e46e1457-faee-4b51-bf0e-8218e9bf57ff",
   "metadata": {},
   "outputs": [],
   "source": []
  },
  {
   "cell_type": "markdown",
   "id": "94ab8445-9297-4ef8-b071-407d429bcd7d",
   "metadata": {},
   "source": [
    "### split dataset with best batch size"
   ]
  },
  {
   "cell_type": "markdown",
   "id": "a9be1b6d-c2d0-4195-b89e-b69d46d61855",
   "metadata": {},
   "source": [
    "Based on available batch sizes and the desired overlap between the batches, tests the dataset in order to split it in the most balanced way, then proceeds to actually effect the split."
   ]
  },
  {
   "cell_type": "code",
   "execution_count": null,
   "id": "98140454-c19c-40ac-8e73-f71b45652852",
   "metadata": {},
   "outputs": [],
   "source": []
  },
  {
   "cell_type": "markdown",
   "id": "4db6c87c-45b1-41fa-a4a7-8742f914cec5",
   "metadata": {},
   "source": [
    "#### Args\n",
    "\n",
    "* `dataset` (list of tuples): The dataset to split, represented as a list of (timestamp, value) pairs.\n",
    "* `overlap` (int, optional): The number of overlapping samples between consecutive batches. Default is 2.\n",
    "* `batch_sizes` (list of int, optional): List of possible batch sizes to test. Default is [7, 8, 9, 10]."
   ]
  },
  {
   "cell_type": "markdown",
   "id": "7dec7b66-2adf-49b6-89e3-e992e887210c",
   "metadata": {},
   "source": [
    "#### Returns\n",
    "\n",
    "* `best_batches` (list of lists): A list of batches, where each batch is a list of (timestamp, value) pairs.\n",
    "* `best_batch_size` (int): The batch size that results in the largest final batch."
   ]
  },
  {
   "cell_type": "code",
   "execution_count": null,
   "id": "5ae0f69d-8413-4c23-8dc0-00e1f3016307",
   "metadata": {},
   "outputs": [],
   "source": []
  }
 ],
 "metadata": {
  "kernelspec": {
   "display_name": "Python 3 (ipykernel)",
   "language": "python",
   "name": "python3"
  },
  "language_info": {
   "codemirror_mode": {
    "name": "ipython",
    "version": 3
   },
   "file_extension": ".py",
   "mimetype": "text/x-python",
   "name": "python",
   "nbconvert_exporter": "python",
   "pygments_lexer": "ipython3",
   "version": "3.11.9"
  }
 },
 "nbformat": 4,
 "nbformat_minor": 5
}
