{
 "cells": [
  {
   "cell_type": "markdown",
   "id": "8a5a876f-a288-4774-9964-d4206a705aa9",
   "metadata": {},
   "source": [
    "# AD_QAOA detection and visualization auxiliary function (AD_detection)"
   ]
  },
  {
   "cell_type": "markdown",
   "id": "7df296ff-9888-4def-84f1-3097dba76ed3",
   "metadata": {},
   "source": [
    "This file contains the auxiliary functions used for the detection and visualizations of the AD_QAOA class."
   ]
  },
  {
   "cell_type": "markdown",
   "id": "c1645bee-2ced-45f8-990d-6a4e114b5234",
   "metadata": {},
   "source": [
    "### apply circles to new dataset"
   ]
  },
  {
   "cell_type": "markdown",
   "id": "2b0dcff5-bc58-44b2-9c1e-f4d60697c222",
   "metadata": {},
   "source": [
    "Identifies anomalies in a new dataset by checking if each point is within any defined circle of centers and radii.  \n",
    "Adjust value (x) in tolerance (x * radius) if small adjustments for the sample inclusion/exclusion are required."
   ]
  },
  {
   "cell_type": "markdown",
   "id": "75817603-544c-40fe-a381-5d56e37b5b4b",
   "metadata": {},
   "source": [
    "`apply_circles_to_new_dataset(dataset, centers_and_radii)`"
   ]
  },
  {
   "cell_type": "markdown",
   "id": "7d16e892-4502-48a5-b4ff-ce0ded8b90ae",
   "metadata": {},
   "source": [
    "#### Args\n",
    "\n",
    "* `dataset` (List[Tuple[int, float]]): The dataset to analyze, represented as a list of (timestamp, value) pairs.\n",
    "* `centers_and_radii` (List[Tuple[Tuple[int, float], float]]): A list of circles, each defined by a center (timestamp, value) and a radius."
   ]
  },
  {
   "cell_type": "markdown",
   "id": "2c5330d3-d10e-4fc2-9841-95c65ba82daa",
   "metadata": {},
   "source": [
    "#### Returns\n",
    "\n",
    "* `anomalies` (List[Tuple[int, float]]): A list of (timestamp, value) pairs that are not covered by any circle, indicating anomalies. "
   ]
  },
  {
   "cell_type": "code",
   "execution_count": null,
   "id": "9b0b61d8-f8f5-4711-b7d1-d48c9f70d9f6",
   "metadata": {},
   "outputs": [],
   "source": []
  },
  {
   "cell_type": "markdown",
   "id": "3be8f858-d601-4aef-9f83-967929a8feda",
   "metadata": {},
   "source": [
    "### plot anomaly detection results"
   ]
  },
  {
   "cell_type": "markdown",
   "id": "007be1ba-3e22-4e4d-bd6c-24b4bc7eef2b",
   "metadata": {},
   "source": [
    "Plots the dataset with anomalies highlighted and optional coverage circles."
   ]
  },
  {
   "cell_type": "markdown",
   "id": "4bab6430-cec9-46c4-a6ff-5bf5b6c442e9",
   "metadata": {},
   "source": [
    "`plot_anomaly_detection_results(dataset, centers_and_radii, anomalies, title)`"
   ]
  },
  {
   "cell_type": "markdown",
   "id": "90588f76-35db-4142-aacc-d8bcd5230f77",
   "metadata": {},
   "source": [
    "#### Args\n",
    "\n",
    "* `dataset` (List[Tuple[int, float]]): The dataset to plot, represented as a list of (timestamp, value) pairs.\n",
    "* `centers_and_radii` (List[Tuple[Tuple[int, float], float]]): A list of circles defined by centers (timestamp, value) and their associated radii. Currently unused.\n",
    "* `anomalies` (List[Tuple[int, float]]): A list of (timestamp, value) pairs identified as anomalies.\n",
    "* `title` (str): The title of the plot."
   ]
  },
  {
   "cell_type": "code",
   "execution_count": null,
   "id": "d5510f8b-7a88-40d1-a26f-11d1b95ef2a8",
   "metadata": {},
   "outputs": [],
   "source": []
  },
  {
   "cell_type": "markdown",
   "id": "ec494610-fd66-406b-a95d-cee1fdda32a2",
   "metadata": {},
   "source": [
    "### plot anomaly detection results scaled"
   ]
  },
  {
   "cell_type": "markdown",
   "id": "f29de0c2-a321-4f78-bc27-8401e9fa6409",
   "metadata": {},
   "source": [
    "Plots the original dataset with anomalies highlighted, using the original scale for values."
   ]
  },
  {
   "cell_type": "markdown",
   "id": "2ee44000-d844-49be-ae04-29d3816b5444",
   "metadata": {},
   "source": [
    "`plot_anomaly_detection_results_scaled(original_dataset, anomalies_scaled, title)`"
   ]
  },
  {
   "cell_type": "markdown",
   "id": "e80c7d1c-5630-47f7-a17c-374069ad68b7",
   "metadata": {},
   "source": [
    "### Args\n",
    "\n",
    "* `original_dataset` (List[Tuple[int, float]]): The original dataset represented as a list of (timestamp, value) pairs.\n",
    "* `anomalies_scaled` (List[Tuple[int, float]]): A list of (timestamp, value) pairs identified as anomalies.\n",
    "* `title` (str): The title of the plot."
   ]
  },
  {
   "cell_type": "code",
   "execution_count": null,
   "id": "d4a85083-d2f9-46d7-90c8-b98098fc6e46",
   "metadata": {},
   "outputs": [],
   "source": []
  },
  {
   "cell_type": "markdown",
   "id": "5bb58fd6-aa92-4f33-804c-c0f3d31cc250",
   "metadata": {},
   "source": [
    "### plot anomaly detection results coverage"
   ]
  },
  {
   "cell_type": "markdown",
   "id": "85d72ca0-7e0c-4db7-b2f8-2d8d5dffb693",
   "metadata": {},
   "source": [
    "Plots the dataset with coverage circles around centers, highlighting detected anomalies."
   ]
  },
  {
   "cell_type": "markdown",
   "id": "a290a609-f99b-489a-b526-fd52b9c43068",
   "metadata": {},
   "source": [
    "`plot_anomaly_detection_results_coverage(dataset, centers_and_radii, anomalies, title)`"
   ]
  },
  {
   "cell_type": "markdown",
   "id": "d0e159dd-fe44-4d9e-93db-370783e4cee4",
   "metadata": {},
   "source": [
    "#### Args\n",
    "\n",
    "* `dataset` (List[Tuple[int, float]]): The dataset to plot, represented as a list of (timestamp, value) pairs.\n",
    "* `centers_and_radii` (List[Tuple[Tuple[int, float], float]]): A list of coverage circles, each defined by a center (timestamp, value) and a radius.\n",
    "* `anomalies` (List[Tuple[int, float]]): A list of (timestamp, value) pairs identified as anomalies.\n",
    "* `title` (str): The title of the plot."
   ]
  },
  {
   "cell_type": "code",
   "execution_count": null,
   "id": "071ea18f-f949-46de-9408-29772a503034",
   "metadata": {},
   "outputs": [],
   "source": []
  }
 ],
 "metadata": {
  "kernelspec": {
   "display_name": "Python 3 (ipykernel)",
   "language": "python",
   "name": "python3"
  },
  "language_info": {
   "codemirror_mode": {
    "name": "ipython",
    "version": 3
   },
   "file_extension": ".py",
   "mimetype": "text/x-python",
   "name": "python",
   "nbconvert_exporter": "python",
   "pygments_lexer": "ipython3",
   "version": "3.11.9"
  }
 },
 "nbformat": 4,
 "nbformat_minor": 5
}
